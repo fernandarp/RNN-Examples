{
 "cells": [
  {
   "cell_type": "markdown",
   "metadata": {},
   "source": [
    "### TensorFlow Example\n",
    "\n",
    "Simple example with 1 input, 1 output and 1 hidden layer.\n",
    "Number of (real) points predicted: 15"
   ]
  },
  {
   "cell_type": "code",
   "execution_count": 1,
   "metadata": {
    "colab": {},
    "colab_type": "code",
    "id": "0wI6Qvja__76"
   },
   "outputs": [
    {
     "name": "stderr",
     "output_type": "stream",
     "text": [
      "D:\\ProgramData\\Anaconda3\\lib\\site-packages\\h5py\\__init__.py:36: FutureWarning: Conversion of the second argument of issubdtype from `float` to `np.floating` is deprecated. In future, it will be treated as `np.float64 == np.dtype(float).type`.\n",
      "  from ._conv import register_converters as _register_converters\n"
     ]
    }
   ],
   "source": [
    "import pandas as pd\n",
    "import numpy as np\n",
    "import tensorflow as tf\n",
    "import matplotlib.pyplot as plt"
   ]
  },
  {
   "cell_type": "code",
   "execution_count": 2,
   "metadata": {
    "colab": {},
    "colab_type": "code",
    "id": "BymIWFqOE7v2"
   },
   "outputs": [],
   "source": [
    "from enum import Enum\n",
    "\n",
    "class Function(Enum):\n",
    "    SINE = 1\n",
    "    STRAIGHT_LINE = 2\n",
    "    SINE_PLUS_STRAIGHT_LINE = 3"
   ]
  },
  {
   "cell_type": "code",
   "execution_count": 3,
   "metadata": {
    "colab": {},
    "colab_type": "code",
    "id": "N4PfCONIAOgv"
   },
   "outputs": [],
   "source": [
    "class TimeSeriesData():\n",
    "    def __init__(self, num_points, xmin, xmax, function, num_test_points):\n",
    "        \"\"\"Creates the Time Series Data selected.\n",
    "\n",
    "        Parameters\n",
    "        ----------\n",
    "        num_points: int\n",
    "          Number of points of the time series.\n",
    "        xmin: float\n",
    "          Minimum value of x.\n",
    "        xmax: float\n",
    "          Maximum value of x.\n",
    "        function: Function\n",
    "          Selected function of the time series.\n",
    "        num_test_points: int\n",
    "          Number of points composing the test data.\n",
    "        \"\"\"\n",
    "        self.num_points = num_points\n",
    "        self.resolution = (xmax-xmin)/num_points\n",
    "\n",
    "        #data_complete is the train data + the test data; data is only the train data.\n",
    "        self.x_data_complete = np.linspace(xmin, xmax, num_points) \n",
    "        self.x_data = self.x_data_complete[:num_points - num_test_points]\n",
    "\n",
    "        if function == Function.SINE:\n",
    "            self.y_data_complete = np.sin(self.x_data_complete)/2\n",
    "        elif function == Function.STRAIGHT_LINE:\n",
    "            self.y_data_complete = np.linspace(xmin, xmax, num_points)\n",
    "        else:\n",
    "            self.y_data_complete = np.sin(self.x_data_complete)/2 + np.linspace(xmin, xmax, num_points)/10        \n",
    "\n",
    "        self.y_data_complete = self.y_data_complete/(max(self.y_data_complete) + 5)\n",
    "        self.y_data = self.y_data_complete[:num_points - num_test_points]\n",
    "      \n",
    "    def get_train_batch(self, num_periods = 20, f_horizon = 1, num_inputs = 1):\n",
    "        \"\"\"Returns the training batches.\n",
    "\n",
    "        Parameters\n",
    "        ----------\n",
    "        num_periods: int\n",
    "          Also known as max_time: number of periods per vector used to predict one period ahead.\n",
    "        f_horizon: int\n",
    "          Shift in the input values to create the output values.\n",
    "        num_inputs: int\n",
    "          Number of inputs.\n",
    "        \"\"\"\n",
    "        self.input = self.y_data[:(len(self.y_data) - (len(self.y_data) % num_periods))] #making possible to reshape the input based on the num_periods given\n",
    "        x_batches = self.input.reshape(-1, num_periods, num_inputs)\n",
    "\n",
    "        self.output = self.y_data[1:(len(self.y_data) - (len(self.y_data) % num_periods)) + f_horizon] #shifting the input to create the output\n",
    "        y_batches = self.output.reshape(-1, num_periods, 1)\n",
    "\n",
    "        return x_batches, y_batches\n",
    "        \n",
    "    def get_test_batch(self, num_periods = 20, forecast = 1, num_inputs = 1):\n",
    "        test_x_setup = self.y_data[-(num_periods + forecast):] #the points not considered in the training data compose the test data\n",
    "        x_test_batch = test_x_setup[:num_periods].reshape(-1, num_periods, num_inputs)\n",
    "        y_test_batch = test_x_setup[-(num_periods):].reshape(-1, num_periods, 1)\n",
    "\n",
    "        return x_test_batch, y_test_batch\n",
    "      "
   ]
  },
  {
   "cell_type": "code",
   "execution_count": 4,
   "metadata": {
    "colab": {
     "base_uri": "https://localhost:8080/",
     "height": 351
    },
    "colab_type": "code",
    "id": "UqQ-vT55AggG",
    "outputId": "be2271e2-0b83-4ef0-a249-f4d7460c0bf5"
   },
   "outputs": [
    {
     "data": {
      "image/png": "[encoded data removed]",
      "text/plain": [
       "<Figure size 432x288 with 1 Axes>"
      ]
     },
     "metadata": {},
     "output_type": "display_data"
    }
   ],
   "source": [
    "max_time = 25\n",
    "num_neurons = 100\n",
    "inputs = 1\n",
    "output = 1\n",
    "learning_rate = 0.001\n",
    "epochs = 1000\n",
    "\n",
    "ts_data = TimeSeriesData(209, 0, 7*np.pi, Function.SINE, 15)\n",
    "x_batches , y_batches = ts_data.get_train_batch(max_time, 1, 1)\n",
    "X_test, Y_test = ts_data.get_test_batch(max_time, 1, 1)\n",
    "\n",
    "plt.plot(ts_data.x_data_complete, ts_data.y_data_complete)\n",
    "plt.show()"
   ]
  },
  {
   "cell_type": "code",
   "execution_count": 5,
   "metadata": {
    "colab": {
     "base_uri": "https://localhost:8080/",
     "height": 88
    },
    "colab_type": "code",
    "id": "Nmj8R3x-AlDM",
    "outputId": "4e320d2a-296f-4ec6-a952-09f186f06a3e"
   },
   "outputs": [],
   "source": [
    "tf.reset_default_graph()\n",
    "\n",
    "X = tf.placeholder(tf.float32, [None, max_time, 1])\n",
    "y = tf.placeholder(tf.float32, [None, max_time, 1])\n",
    "\n",
    "\n",
    "basic_cell = tf.contrib.rnn.BasicRNNCell(num_units = num_neurons, activation = tf.nn.relu)\n",
    "rnn_output, states = tf.nn.dynamic_rnn(basic_cell, X, dtype=tf.float32)\n",
    "\n",
    "stacked_rnn_output = tf.reshape(rnn_output, [-1, num_neurons])\n",
    "stacked_outputs = tf.layers.dense(stacked_rnn_output, output)\n",
    "outputs = tf.reshape(stacked_outputs, [-1, max_time, output])\n",
    "\n",
    "loss = tf.reduce_mean(tf.square(outputs - y))\n",
    "optimizer = tf.train.AdamOptimizer(learning_rate = learning_rate)\n",
    "training_op = optimizer.minimize(loss)\n",
    "\n",
    "init = tf.global_variables_initializer()"
   ]
  },
  {
   "cell_type": "code",
   "execution_count": 6,
   "metadata": {
    "colab": {
     "base_uri": "https://localhost:8080/",
     "height": 187
    },
    "colab_type": "code",
    "id": "wSSKcjFBLqpq",
    "outputId": "bbc5cbba-f690-4849-fddb-7d8255f04ead"
   },
   "outputs": [
    {
     "name": "stdout",
     "output_type": "stream",
     "text": [
      "0 \tMSE:  0.0037927034\n",
      "100 \tMSE:  2.408598e-05\n",
      "200 \tMSE:  8.260637e-06\n",
      "300 \tMSE:  6.9388707e-06\n",
      "400 \tMSE:  4.741832e-06\n",
      "500 \tMSE:  4.421021e-06\n",
      "600 \tMSE:  4.2596553e-06\n",
      "700 \tMSE:  5.089206e-06\n",
      "800 \tMSE:  6.856259e-06\n",
      "900 \tMSE:  3.7639575e-06\n"
     ]
    }
   ],
   "source": [
    "with tf.Session() as sess:\n",
    "    init.run()\n",
    "    for ep in range(epochs):\n",
    "        sess.run(training_op, feed_dict={X: x_batches, y: y_batches})\n",
    "        if ep % 100 == 0:\n",
    "            mse = loss.eval(feed_dict={X: x_batches, y: y_batches})\n",
    "            print(ep, \"\\tMSE: \", mse)\n",
    "      \n",
    "    Y_pred = sess.run(outputs, feed_dict = {X: X_test})\n",
    "  \n",
    "    outputs_array = []\n",
    "    x_outputs_array = []\n",
    "    test = ts_data.y_data_complete[(len(ts_data.x_data) - max_time):len(ts_data.x_data)]\n",
    "\n",
    "    test = X_test\n",
    "    for i in range(0, len(ts_data.y_data_complete) - len(ts_data.y_data)):\n",
    "        y_pred = sess.run(outputs, feed_dict = {X: test})\n",
    "        y_pred_last = y_pred[:, -1, :]\n",
    "\n",
    "        outputs_array.append(y_pred_last[0][0])\n",
    "        x_outputs_array.append(ts_data.x_data_complete[len(ts_data.x_data) + i])\n",
    "\n",
    "        test = np.append(test[:,1:max_time,:], [[[y_pred_last]]]).reshape(-1, max_time, 1)"
   ]
  },
  {
   "cell_type": "code",
   "execution_count": 7,
   "metadata": {
    "colab": {
     "base_uri": "https://localhost:8080/",
     "height": 361
    },
    "colab_type": "code",
    "id": "oKJTAbN1Mh9F",
    "outputId": "fa15368c-e646-4680-e434-2828fc2895b0"
   },
   "outputs": [
    {
     "data": {
      "image/png": "[encoded data removed]",
      "text/plain": [
       "<Figure size 432x288 with 1 Axes>"
      ]
     },
     "metadata": {},
     "output_type": "display_data"
    }
   ],
   "source": [
    "plt.title('TensorFlow', fontsize=10)\n",
    "plt.plot(ts_data.x_data_complete, ts_data.y_data_complete, 'k', label='Actual Complete')\n",
    "plt.plot(ts_data.x_data[-(max_time):], pd.Series(np.ravel(Y_pred)), 'b.', label = 'Forecast 1')\n",
    "plt.plot(x_outputs_array, outputs_array, 'r--', label = 'Forecast 2')\n",
    "plt.ylim(-0.15, 0.15)\n",
    "plt.legend(loc='upper left')\n",
    "\n",
    "plt.show()"
   ]
  }
 ],
 "metadata": {
  "colab": {
   "collapsed_sections": [],
   "name": "RNN - TensowFlow Example.ipynb",
   "provenance": [],
   "version": "0.3.2"
  },
  "kernelspec": {
   "display_name": "Python 3",
   "language": "python",
   "name": "python3"
  },
  "language_info": {
   "codemirror_mode": {
    "name": "ipython",
    "version": 3
   },
   "file_extension": ".py",
   "mimetype": "text/x-python",
   "name": "python",
   "nbconvert_exporter": "python",
   "pygments_lexer": "ipython3",
   "version": "3.6.5"
  }
 },
 "nbformat": 4,
 "nbformat_minor": 1
}
